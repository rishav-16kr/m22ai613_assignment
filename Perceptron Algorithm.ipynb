{
 "cells": [
  {
   "cell_type": "code",
   "execution_count": 9,
   "id": "438e85e4",
   "metadata": {},
   "outputs": [],
   "source": [
    "##Name -- Rishav Kumar\n",
    "##Roll No -- m22ai613\n",
    "\n",
    "import numpy as np\n",
    "import matplotlib.pyplot as plt\n",
    "\n",
    "# data\n",
    "X = np.array([[1, 1], [-1, -1], [0, 0.5], [0.1, 0.5], [0.2, 0.2], [0.9, 0.5]])\n",
    "Y = np.array([1, -1, -1, -1, 1, 1])\n",
    "\n",
    "# Initial weight vector and bias\n",
    "w = np.array([1, 1])\n",
    "b = 0"
   ]
  },
  {
   "cell_type": "code",
   "execution_count": 2,
   "id": "866e0fdb",
   "metadata": {},
   "outputs": [
    {
     "name": "stdout",
     "output_type": "stream",
     "text": [
      "Epoch  1 :\n",
      "Sample  1 : x= [1. 1.]  y= 1  y_hat= 2.0  Correct\n",
      "Sample  2 : x= [-1. -1.]  y= -1  y_hat= -2.0  Correct\n",
      "Sample  3 : x= [0.  0.5]  y= -1  y_hat= 0.5  Incorrect, Update w= [1.  0.5]  b= -1\n",
      "Sample  4 : x= [0.1 0.5]  y= -1  y_hat= -0.65  Correct\n",
      "Sample  5 : x= [0.2 0.2]  y= 1  y_hat= -0.7  Incorrect, Update w= [1.2 0.7]  b= 0\n",
      "Sample  6 : x= [0.9 0.5]  y= 1  y_hat= 1.4300000000000002  Correct\n",
      "Epoch  2 :\n",
      "Sample  1 : x= [1. 1.]  y= 1  y_hat= 1.9  Correct\n",
      "Sample  2 : x= [-1. -1.]  y= -1  y_hat= -1.9  Correct\n",
      "Sample  3 : x= [0.  0.5]  y= -1  y_hat= 0.35  Incorrect, Update w= [1.2 0.2]  b= -1\n",
      "Sample  4 : x= [0.1 0.5]  y= -1  y_hat= -0.78  Correct\n",
      "Sample  5 : x= [0.2 0.2]  y= 1  y_hat= -0.72  Incorrect, Update w= [1.4 0.4]  b= 0\n",
      "Sample  6 : x= [0.9 0.5]  y= 1  y_hat= 1.46  Correct\n",
      "Epoch  3 :\n",
      "Sample  1 : x= [1. 1.]  y= 1  y_hat= 1.7999999999999998  Correct\n",
      "Sample  2 : x= [-1. -1.]  y= -1  y_hat= -1.7999999999999998  Correct\n",
      "Sample  3 : x= [0.  0.5]  y= -1  y_hat= 0.19999999999999998  Incorrect, Update w= [ 1.4 -0.1]  b= -1\n",
      "Sample  4 : x= [0.1 0.5]  y= -1  y_hat= -0.91  Correct\n",
      "Sample  5 : x= [0.2 0.2]  y= 1  y_hat= -0.74  Incorrect, Update w= [1.6 0.1]  b= 0\n",
      "Sample  6 : x= [0.9 0.5]  y= 1  y_hat= 1.49  Correct\n",
      "Epoch  4 :\n",
      "Sample  1 : x= [1. 1.]  y= 1  y_hat= 1.6999999999999997  Correct\n",
      "Sample  2 : x= [-1. -1.]  y= -1  y_hat= -1.6999999999999997  Correct\n",
      "Sample  3 : x= [0.  0.5]  y= -1  y_hat= 0.04999999999999999  Incorrect, Update w= [ 1.6 -0.4]  b= -1\n",
      "Sample  4 : x= [0.1 0.5]  y= -1  y_hat= -1.04  Correct\n",
      "Sample  5 : x= [0.2 0.2]  y= 1  y_hat= -0.76  Incorrect, Update w= [ 1.8 -0.2]  b= 0\n",
      "Sample  6 : x= [0.9 0.5]  y= 1  y_hat= 1.5199999999999998  Correct\n",
      "Epoch  5 :\n",
      "Sample  1 : x= [1. 1.]  y= 1  y_hat= 1.5999999999999999  Correct\n",
      "Sample  2 : x= [-1. -1.]  y= -1  y_hat= -1.5999999999999999  Correct\n",
      "Sample  3 : x= [0.  0.5]  y= -1  y_hat= -0.1  Correct\n",
      "Sample  4 : x= [0.1 0.5]  y= -1  y_hat= 0.07999999999999999  Incorrect, Update w= [ 1.7 -0.7]  b= -1\n",
      "Sample  5 : x= [0.2 0.2]  y= 1  y_hat= -0.8  Incorrect, Update w= [ 1.9 -0.5]  b= 0\n",
      "Sample  6 : x= [0.9 0.5]  y= 1  y_hat= 1.4599999999999997  Correct\n",
      "Epoch  6 :\n",
      "Sample  1 : x= [1. 1.]  y= 1  y_hat= 1.3999999999999997  Correct\n",
      "Sample  2 : x= [-1. -1.]  y= -1  y_hat= -1.3999999999999997  Correct\n",
      "Sample  3 : x= [0.  0.5]  y= -1  y_hat= -0.24999999999999997  Correct\n",
      "Sample  4 : x= [0.1 0.5]  y= -1  y_hat= -0.06  Correct\n",
      "Sample  5 : x= [0.2 0.2]  y= 1  y_hat= 0.27999999999999997  Correct\n",
      "Sample  6 : x= [0.9 0.5]  y= 1  y_hat= 1.4599999999999997  Correct\n"
     ]
    }
   ],
   "source": [
    "# Perceptron learning algorithm\n",
    "epoch = 1\n",
    "converged = False\n",
    "while not converged:\n",
    "    print(\"Epoch \", epoch, \":\")\n",
    "    misclassified = 0\n",
    "    for i in range(len(X)):\n",
    "        x = X[i]\n",
    "        y = Y[i]\n",
    "        y_hat = np.dot(w, x) + b\n",
    "        if y_hat*y <= 0:\n",
    "            w = w + y*x\n",
    "            b = b + y\n",
    "            misclassified += 1\n",
    "            print(\"Sample \", i+1, \": x=\", x, \" y=\", y, \" y_hat=\", y_hat, \" Incorrect, Update w=\", w, \" b=\", b)\n",
    "        else:\n",
    "            print(\"Sample \", i+1, \": x=\", x, \" y=\", y, \" y_hat=\", y_hat, \" Correct\")\n",
    "    if misclassified == 0:\n",
    "        converged = True\n",
    "    epoch += 1"
   ]
  },
  {
   "cell_type": "code",
   "execution_count": 8,
   "id": "8c22f6e9",
   "metadata": {},
   "outputs": [
    {
     "data": {
      "image/png": "[encoded data removed]",
      "text/plain": [
       "<Figure size 640x480 with 1 Axes>"
      ]
     },
     "metadata": {},
     "output_type": "display_data"
    }
   ],
   "source": [
    "# Plot decision boundary\n",
    "x = np.linspace(-1, 1, 100)\n",
    "y = -w[0]/w[1]*x - b/w[1]\n",
    "plt.scatter(X[:,0], X[:,1], c=Y,)\n",
    "plt.plot(x, y, '--r')\n",
    "plt.xlim(-2, 2)\n",
    "plt.ylim(-2, 2)\n",
    "plt.xlabel('x1')\n",
    "plt.ylabel('x2')\n",
    "plt.show()"
   ]
  },
  {
   "cell_type": "code",
   "execution_count": null,
   "id": "4a7ca10c",
   "metadata": {},
   "outputs": [],
   "source": []
  }
 ],
 "metadata": {
  "kernelspec": {
   "display_name": "Python 3 (ipykernel)",
   "language": "python",
   "name": "python3"
  },
  "language_info": {
   "codemirror_mode": {
    "name": "ipython",
    "version": 3
   },
   "file_extension": ".py",
   "mimetype": "text/x-python",
   "name": "python",
   "nbconvert_exporter": "python",
   "pygments_lexer": "ipython3",
   "version": "3.10.8"
  }
 },
 "nbformat": 4,
 "nbformat_minor": 5
}
